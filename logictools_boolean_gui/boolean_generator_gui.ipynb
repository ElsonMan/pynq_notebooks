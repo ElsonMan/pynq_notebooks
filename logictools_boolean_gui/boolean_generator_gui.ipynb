{
 "cells": [
  {
   "cell_type": "markdown",
   "metadata": {
    "slideshow": {
     "slide_type": "skip"
    }
   },
   "source": [
    "# Demonstration of boolean functions using the logic tools overlay\n",
    "* Logictools overlay for Pynq-Z1 v2.0 image\n",
    "\n",
    "This notebook is inteded to be run as a slideshow. \n",
    "\n",
    "Check View > Cell Toolbar > Slideshow to see the *Slideshow options* for each cell. From here you can select whcih slides will be included or excluded from the presentation. \n",
    "\n",
    "* Before entering the slideshow view, click Cell > Run All to execute all the code in the notebook. \n",
    "\n",
    "In slideshow mode, use the cursor keys (left right) to navigate through the presentation\n",
    "\n",
    "* Press Alt + r to enter the slideshow and hide this view. (Exit slideshow mode with the same keys Alt + r)\n"
   ]
  },
  {
   "cell_type": "markdown",
   "metadata": {
    "slideshow": {
     "slide_type": "slide"
    }
   },
   "source": [
    "# Boolean functions\n",
    "This notebook will show how to use the boolean generator to generate a boolean combinational function. The function that is implemented is a 2-input XOR.\n",
    "\n",
    "### Step 1: Download the `logictools` overlay"
   ]
  },
  {
   "cell_type": "code",
   "execution_count": 1,
   "metadata": {
    "collapsed": true,
    "slideshow": {
     "slide_type": "-"
    }
   },
   "outputs": [],
   "source": [
    "from ipywidgets import interact, interactive, fixed, interact_manual\n",
    "import ipywidgets as widgets\n",
    "from IPython.display import display\n",
    "\n",
    "from pynq.overlays.logictools import LogicToolsOverlay\n",
    "logictools_olay = LogicToolsOverlay('logictools.bit')\n"
   ]
  },
  {
   "cell_type": "code",
   "execution_count": 2,
   "metadata": {
    "slideshow": {
     "slide_type": "skip"
    }
   },
   "outputs": [],
   "source": [
    "def update_boolean_generator(sender):\n",
    "    led = o.value.replace(\"E\", \"\") # CHange LED to LD\n",
    "    logic = []\n",
    "\n",
    "    for i in [s0.value, s1.value, s2.value]:\n",
    "        if i is 'AND' :\n",
    "            logic.append('&')\n",
    "        elif i is 'OR' :\n",
    "            logic.append('|')\n",
    "        elif i is 'XOR' :\n",
    "            logic.append('^')\n",
    "    \n",
    "    inputs = []\n",
    "    for i in [d0.value, d1.value, d2.value, d3.value]:\n",
    "        if i is not '-' :\n",
    "            inputs.append(i)\n",
    "            \n",
    "    #Build logic function\n",
    "    # Assumes d0 always exists\n",
    "    function = led + '=' + inputs[0]\n",
    "\n",
    "    for i, j in zip(logic, inputs[1:4]):\n",
    "        function = function + i + j\n",
    "\n",
    "    boolean_generator = logictools_olay.boolean_generator\n",
    "    boolean_generator.reset()\n",
    "    boolean_generator.setup([function])\n",
    "    boolean_generator.run()"
   ]
  },
  {
   "cell_type": "code",
   "execution_count": 3,
   "metadata": {
    "slideshow": {
     "slide_type": "skip"
    }
   },
   "outputs": [],
   "source": [
    "o = widgets.Select(\n",
    "    options=['LED0', 'LED1', 'LED2', 'LED3'],\n",
    "    value='LED0',\n",
    "    description='LED',\n",
    "    disabled=False)\n",
    "\n",
    "d0 = widgets.Select(\n",
    "    options=['PB0', 'PB1', 'PB2', 'PB3', '-'],\n",
    "    value='PB0',\n",
    "    #description='PB',\n",
    "    disabled=False)\n",
    "\n",
    "d1 = widgets.Select(\n",
    "    options=['PB0', 'PB1', 'PB2', 'PB3', '-'],\n",
    "    value='PB1',\n",
    "    #description='PB',\n",
    "    disabled=False)\n",
    "\n",
    "d2 = widgets.Select(\n",
    "    options=['PB0', 'PB1', 'PB2', 'PB3', '-'],\n",
    "    value='-',\n",
    "    #description='PB',\n",
    "    disabled=False)\n",
    "\n",
    "d3 = widgets.Select(\n",
    "    options=['PB0', 'PB1', 'PB2', 'PB3', '-'],\n",
    "    value='-',\n",
    "    #description='PB',\n",
    "    disabled=False)\n",
    "\n",
    "s0 = widgets.Select(\n",
    "    options=['AND', 'OR', 'XOR', '-'],\n",
    "    value='AND',\n",
    "    disabled=False)\n",
    "\n",
    "s1 = widgets.Select(\n",
    "    options=['AND', 'OR', 'XOR', '-'],\n",
    "    value='-',\n",
    "    disabled=False)\n",
    "\n",
    "s2 = widgets.Select(\n",
    "    options=['AND', 'OR', 'XOR', '-'],\n",
    "    value='-',\n",
    "    disabled=False)\n",
    "\n",
    "o.observe(update_boolean_generator)\n",
    "s0.observe(update_boolean_generator)\n",
    "s1.observe(update_boolean_generator)\n",
    "s2.observe(update_boolean_generator)\n",
    "d0.observe(update_boolean_generator)\n",
    "d1.observe(update_boolean_generator)\n",
    "d2.observe(update_boolean_generator)\n",
    "d3.observe(update_boolean_generator)\n",
    "#o.on_submit(update_boolean_generator)\n",
    "items = [o, d0, s0, d1, s1, d2, s2, d3]"
   ]
  },
  {
   "cell_type": "markdown",
   "metadata": {
    "slideshow": {
     "slide_type": "slide"
    }
   },
   "source": [
    "### Step 2: Specify the boolean function \n",
    "\n",
    "Inputs can be **PB0**, **PB1**, **PB2**, **PB3** for each of the 4 pushbuttons\n",
    "\n",
    "Output can be **LD0**, **LD1**, **LD2**, **LD3** for each of the four LEDs\n",
    "\n",
    "Operations can be \n",
    "* **&** : AND\n",
    "* **|** : OR\n",
    "* **!** : NOT\n",
    "* **^** : XOR "
   ]
  },
  {
   "cell_type": "markdown",
   "metadata": {
    "slideshow": {
     "slide_type": "slide"
    }
   },
   "source": [
    "## Step 3 select the logic function\n",
    "\n",
    "Use the dropdown boxes to select the logic function that will be implemented using Pushbuttons, and LEDs as input and output"
   ]
  },
  {
   "cell_type": "code",
   "execution_count": 4,
   "metadata": {
    "slideshow": {
     "slide_type": "-"
    }
   },
   "outputs": [
    {
     "data": {
      "application/vnd.jupyter.widget-view+json": {
       "model_id": "949191e1ac8b4ca5bed7bb0bc65db78d"
      }
     },
     "metadata": {},
     "output_type": "display_data"
    }
   ],
   "source": [
    "widgets.Box(items)"
   ]
  },
  {
   "cell_type": "markdown",
   "metadata": {
    "slideshow": {
     "slide_type": "-"
    }
   },
   "source": [
    "Test the logic function by pressing the pushbuttons on the board and check the correct LED lights up."
   ]
  }
 ],
 "metadata": {
  "celltoolbar": "Slideshow",
  "kernelspec": {
   "display_name": "Python 3",
   "language": "python",
   "name": "python3"
  },
  "language_info": {
   "codemirror_mode": {
    "name": "ipython",
    "version": 3
   },
   "file_extension": ".py",
   "mimetype": "text/x-python",
   "name": "python",
   "nbconvert_exporter": "python",
   "pygments_lexer": "ipython3",
   "version": "3.6.0"
  },
  "widgets": {
   "application/vnd.jupyter.widget-state+json": {
    "state": {},
    "version_major": 1,
    "version_minor": 0
   }
  }
 },
 "nbformat": 4,
 "nbformat_minor": 1
}
