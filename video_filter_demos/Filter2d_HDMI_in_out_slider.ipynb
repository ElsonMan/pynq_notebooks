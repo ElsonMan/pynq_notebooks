{
 "cells": [
  {
   "cell_type": "markdown",
   "metadata": {
    "slideshow": {
     "slide_type": "skip"
    }
   },
   "source": [
    "# 2D Filter demo\n",
    "\n",
    "## Requirements\n",
    "\n",
    "Custom video overlay for Pynq-Z1 v2.0 image\n",
    "HDMI In 1280x720 (720p) source connected to the board\n",
    "\n",
    "This demo allows the color channels of an input video stream to be adjusted, and the loading of pre-defined filters.\n",
    "\n",
    "## Slideshow\n",
    "\n",
    "* If the resolution is incorrectly set the first time the board is connected, set the resolution, and rerun all the cells in this notebook\n",
    " \n",
    "This demo is intended to be run as a slideshow. \n",
    "\n",
    "Go to View > Cell Toolbar > Slideshow to see the *Slideshow options* for each cell. From here you can select which slides will be included or excluded from the presentation. \n",
    "\n",
    "Code cells can be executed from the slideshow view by clicking the code cell, and pressing CTRL + ENTER\n",
    "\n",
    "\n",
    "## Instructions to run the demo:\n",
    "\n",
    "* Before entering the slideshow view, click Cell > Run All to execute all the code in the notebook. \n",
    "\n",
    "In slideshow mode, use the cursor keys (left right) to navigate through the presentation\n",
    "\n",
    "* Press Alt + r to enter the slideshow and hide this view. (Exit slideshow mode with the same keys Alt + r)"
   ]
  },
  {
   "cell_type": "code",
   "execution_count": 1,
   "metadata": {
    "slideshow": {
     "slide_type": "skip"
    }
   },
   "outputs": [
    {
     "data": {
      "text/plain": [
       "<contextlib._GeneratorContextManager at 0x300edfd0>"
      ]
     },
     "execution_count": 1,
     "metadata": {},
     "output_type": "execute_result"
    }
   ],
   "source": [
    "import pynq\n",
    "ol = pynq.Overlay('./filter.bit')\n",
    "\n",
    "from pynq.lib.video import *\n",
    "rgba = PixelFormat(32, COLOR_IN_RGB, COLOR_OUT_RGB)\n",
    "mode = VideoMode(1280, 720, 32)\n",
    "\n",
    "ol.video.hdmi_in.configure(rgba)\n",
    "\n",
    "ol.video.hdmi_in.start()\n",
    "\n",
    "ol.video.hdmi_out.configure(mode, rgba)\n",
    "ol.video.hdmi_out.start()"
   ]
  },
  {
   "cell_type": "code",
   "execution_count": 2,
   "metadata": {
    "slideshow": {
     "slide_type": "skip"
    }
   },
   "outputs": [
    {
     "data": {
      "text/plain": [
       "VideoMode: width=1280 height=720 bpp=32"
      ]
     },
     "execution_count": 2,
     "metadata": {},
     "output_type": "execute_result"
    }
   ],
   "source": [
    "ol.video.hdmi_in.mode # Check input mode; Should be 1280x 720"
   ]
  },
  {
   "cell_type": "code",
   "execution_count": 3,
   "metadata": {
    "collapsed": true,
    "slideshow": {
     "slide_type": "skip"
    }
   },
   "outputs": [],
   "source": [
    "filter2d = ol.video.filter2d_0\n",
    "\n",
    "coeffs = np.frombuffer(filter2d.mmio.mem, np.int16, 96, 64)\n",
    "\n",
    "c1 = coeffs[0:25].reshape((5,5))\n",
    "c2 = coeffs[32:57].reshape((5,5))\n",
    "c3 = coeffs[64:89].reshape((5,5))"
   ]
  },
  {
   "cell_type": "markdown",
   "metadata": {
    "collapsed": true,
    "slideshow": {
     "slide_type": "skip"
    }
   },
   "source": [
    "Note that while we have specified the types here as a 16-bit integer the type used by the hardware is a 16-bit fixed-point number so we need multiply the value of the coefficients by 256 when writing them to the hardware. Finally we can make our filter pass through the signal intact and (hopefully) see something on the screen."
   ]
  },
  {
   "cell_type": "code",
   "execution_count": 4,
   "metadata": {
    "collapsed": true,
    "slideshow": {
     "slide_type": "skip"
    }
   },
   "outputs": [],
   "source": [
    "def update_filter(sender):\n",
    "    for i in range(5):\n",
    "        for j in range(5):\n",
    "            c1[(i,j)] = my_coefficients[i*5+j].value\n",
    "            c2[(i,j)] = my_coefficients[25 + i*5+j].value\n",
    "            c3[(i,j)] = my_coefficients[50 + i*5+j].value"
   ]
  },
  {
   "cell_type": "markdown",
   "metadata": {
    "slideshow": {
     "slide_type": "skip"
    }
   },
   "source": [
    "Make sure something is being displayed on HDMI out"
   ]
  },
  {
   "cell_type": "code",
   "execution_count": 5,
   "metadata": {
    "collapsed": true,
    "slideshow": {
     "slide_type": "skip"
    }
   },
   "outputs": [],
   "source": [
    "ol.video.hdmi_in.tie(ol.video.hdmi_out)"
   ]
  },
  {
   "cell_type": "code",
   "execution_count": 6,
   "metadata": {
    "collapsed": true,
    "slideshow": {
     "slide_type": "skip"
    }
   },
   "outputs": [],
   "source": [
    "import ipywidgets as widgets\n",
    "from ipywidgets import interact, Layout\n",
    "from IPython.display import display\n",
    "from ipywidgets import HBox, VBox\n",
    "\n",
    "my_coefficients = []   \n",
    "for i in range(3):\n",
    "    for j in range(25):\n",
    "        my_coefficients.append(widgets.IntText(value=0, disabled=False, layout=Layout(width='50px')))\n",
    "        my_coefficients[i*25+j].observe(update_filter)"
   ]
  },
  {
   "cell_type": "code",
   "execution_count": 7,
   "metadata": {
    "collapsed": true,
    "slideshow": {
     "slide_type": "skip"
    }
   },
   "outputs": [],
   "source": [
    "# Some options for filters: https://en.wikipedia.org/wiki/Kernel_%28image_processing%29\n",
    "\n",
    "default_mask = np.frombuffer(filter2d.mmio.mem, np.int16, 96, 64)\n",
    "default_mask = [[0, 0,  0, 0, 0],\n",
    "                [0, 0,  0, 0, 0],\n",
    "                [0, 0,256, 0, 0],\n",
    "                [0, 0,  0, 0, 0],\n",
    "                [0, 0,  0, 0, 0]]\n",
    "\n",
    "blank_mask = np.frombuffer(filter2d.mmio.mem, np.int16, 96, 64)\n",
    "blank_mask = [[0, 0,  0, 0, 0],\n",
    "                [0, 0,  0, 0, 0],\n",
    "                [0, 0, 0, 0, 0],\n",
    "                [0, 0,  0, 0, 0],\n",
    "                [0, 0,  0, 0, 0]]\n",
    "\n",
    "sobel_mask = np.frombuffer(filter2d.mmio.mem, np.int16, 96, 64)\n",
    "sobel_mask = [[0,0,  1,0,0],\n",
    "              [0,1,  2,1,0],\n",
    "              [1,2,-16,2,1],\n",
    "              [0,1,  2,1,0],\n",
    "              [0,0,  1,0,0]]\n",
    "sobel_mask = 256*np.array(sobel_mask)\n",
    "\n",
    "enhance_mask = np.frombuffer(filter2d.mmio.mem, np.int16, 96, 64)\n",
    "enhance_mask = [[0, 0,  5, 0, 0],\n",
    "                [0, 5,  9, 5, 0],\n",
    "                [5, 9,256, 9, 5],\n",
    "                [0, 5,  9, 5, 0],\n",
    "                [0, 0,  5, 0, 0]]\n",
    "\n",
    "sharpen_mask = np.frombuffer(filter2d.mmio.mem, np.int16, 96, 64)\n",
    "sharpen_mask = [[0, 0,  0, 0, 0],\n",
    "                [0, 0, -1, 0, 0],\n",
    "                [0,-1,  5,-1, 0],\n",
    "                [0, 0, -1, 0, 0],\n",
    "                [0, 0,  0, 0, 0]]\n",
    "sharpen_mask = 256*np.array(sharpen_mask)\n",
    "\n",
    "gaussian_blur_mask = np.frombuffer(filter2d.mmio.mem, np.int16, 96, 64)\n",
    "gaussian_blur_mask = [[1, 4,  6, 4, 1],\n",
    "                      [4,16, 24,16, 4],\n",
    "                      [6,24, 36,24, 6],\n",
    "                      [4,16, 24,16, 4],\n",
    "                      [1, 4,  6, 4, 1]]\n",
    "\n",
    "def update_coeffs(sender):\n",
    "    if presets.value is 'Default':\n",
    "        c1[:] = default_mask[:]\n",
    "        c2[:] = default_mask[:]\n",
    "        c3[:] = default_mask[:]\n",
    "    elif presets.value is 'Sobel':\n",
    "        c1[:] = sobel_mask[:]\n",
    "        c2[:] = sobel_mask[:]\n",
    "        c3[:] = sobel_mask[:]\n",
    "    elif presets.value is 'Warm':\n",
    "        c1[:] = enhance_mask[:]\n",
    "        c2[:] = default_mask[:]\n",
    "        c3[:] = default_mask[:]\n",
    "    elif presets.value is 'Cool':\n",
    "        c1[:] = default_mask[:]\n",
    "        c2[:] = default_mask[:]\n",
    "        c3[:] = enhance_mask[:]\n",
    "    elif presets.value is 'Sharpen':\n",
    "        c1[:] = sharpen_mask[:]\n",
    "        c2[:] = sharpen_mask[:]\n",
    "        c3[:] = sharpen_mask[:]\n",
    "    elif presets.value is 'Blur':\n",
    "        c1[:] = gaussian_blur_mask[:]\n",
    "        c2[:] = gaussian_blur_mask[:]\n",
    "        c3[:] = gaussian_blur_mask[:]\n",
    "    elif presets.value is 'Red_Edge':\n",
    "        c1[:] = sobel_mask[:]\n",
    "        c2[:] = blank_mask[:]\n",
    "        c3[:] = blank_mask[:]\n",
    "    elif presets.value is 'Blue_Edge':\n",
    "        c1[:] = blank_mask[:]\n",
    "        c2[:] = blank_mask[:]\n",
    "        c3[:] = sobel_mask[:]\n",
    "    elif presets.value is 'Green_Edge':\n",
    "        c1[:] = blank_mask[:]\n",
    "        c2[:] = sobel_mask[:]\n",
    "        c3[:] = blank_mask[:]\n",
    "\n",
    "            \n",
    "def sliders_update_coeffs(sender):\n",
    "    c1[:] = default_mask[:]\n",
    "    c2[:] = default_mask[:]\n",
    "    c3[:] = default_mask[:]\n",
    "    c1[(2,2)] = redSlider.value\n",
    "    c2[(2,2)] = greenSlider.value\n",
    "    c3[(2,2)] = blueSlider.value\n",
    "    \n",
    "presets = widgets.Select(\n",
    "    options=['Default', 'Sobel', 'Sharpen', 'Blur', 'Warm', 'Cool', 'Red_Edge', 'Blue_Edge', 'Green_Edge'],\n",
    "    value='Default',\n",
    "    # rows=10,\n",
    "    description='Presets:',\n",
    "    disabled=False,\n",
    "    layout=Layout(width='250px')\n",
    ")\n",
    "presets.observe(update_coeffs)"
   ]
  },
  {
   "cell_type": "markdown",
   "metadata": {
    "slideshow": {
     "slide_type": "slide"
    }
   },
   "source": [
    "# Video filter\n",
    "\n",
    "Change the strength of the colour using the sliders below, or chose from presets filters to change the image"
   ]
  },
  {
   "cell_type": "code",
   "execution_count": 8,
   "metadata": {
    "collapsed": true,
    "slideshow": {
     "slide_type": "skip"
    }
   },
   "outputs": [],
   "source": [
    "import ipywidgets as widgets\n",
    "\n",
    "redSlider = widgets.IntSlider(\n",
    "    value=256,\n",
    "    min=0,\n",
    "    max=256,\n",
    "    step=1,\n",
    "    description='Red:',\n",
    "    disabled=False,\n",
    "    continuous_update=True,\n",
    "    orientation='horizontal',\n",
    "    readout=True,\n",
    "    readout_format='d'\n",
    ")\n",
    "greenSlider = widgets.IntSlider(\n",
    "    value=256,\n",
    "    min=0,\n",
    "    max=256,\n",
    "    step=1,\n",
    "    description='Green:',\n",
    "    disabled=False,\n",
    "    continuous_update=True,\n",
    "    orientation='horizontal',\n",
    "    readout=True,\n",
    "    readout_format='d'\n",
    ")\n",
    "blueSlider = widgets.IntSlider(\n",
    "    value=256,\n",
    "    min=0,\n",
    "    max=256,\n",
    "    step=1,\n",
    "    description='Blue:',\n",
    "    disabled=False,\n",
    "    continuous_update=True,\n",
    "    orientation='horizontal',\n",
    "    readout=True,\n",
    "    readout_format='d'\n",
    ")\n",
    "\n",
    "redSlider.observe(sliders_update_coeffs)\n",
    "greenSlider.observe(sliders_update_coeffs)\n",
    "blueSlider.observe(sliders_update_coeffs)\n",
    "sliders_update_coeffs(_)"
   ]
  },
  {
   "cell_type": "code",
   "execution_count": 9,
   "metadata": {
    "slideshow": {
     "slide_type": "-"
    }
   },
   "outputs": [
    {
     "data": {
      "application/vnd.jupyter.widget-view+json": {
       "model_id": "100462abc284456b85b4904e7be41d75"
      }
     },
     "metadata": {},
     "output_type": "display_data"
    },
    {
     "data": {
      "application/vnd.jupyter.widget-view+json": {
       "model_id": "9ee04f8070b547088a8af1e7836f8606"
      }
     },
     "metadata": {},
     "output_type": "display_data"
    },
    {
     "data": {
      "application/vnd.jupyter.widget-view+json": {
       "model_id": "8bf59de059e84defadc8bf1e50a43d40"
      }
     },
     "metadata": {},
     "output_type": "display_data"
    },
    {
     "data": {
      "application/vnd.jupyter.widget-view+json": {
       "model_id": "e626408efc9041a091997f3c37ec5874"
      }
     },
     "metadata": {},
     "output_type": "display_data"
    }
   ],
   "source": [
    "display(presets, redSlider, greenSlider, blueSlider)"
   ]
  },
  {
   "cell_type": "code",
   "execution_count": 10,
   "metadata": {
    "collapsed": true,
    "slideshow": {
     "slide_type": "skip"
    }
   },
   "outputs": [],
   "source": [
    "#ol.video.hdmi_out.stop()\n",
    "#ol.video.hdmi_in.stop()"
   ]
  }
 ],
 "metadata": {
  "celltoolbar": "Slideshow",
  "kernelspec": {
   "display_name": "Python 3",
   "language": "python",
   "name": "python3"
  },
  "language_info": {
   "codemirror_mode": {
    "name": "ipython",
    "version": 3
   },
   "file_extension": ".py",
   "mimetype": "text/x-python",
   "name": "python",
   "nbconvert_exporter": "python",
   "pygments_lexer": "ipython3",
   "version": "3.6.0"
  }
 },
 "nbformat": 4,
 "nbformat_minor": 2
}
