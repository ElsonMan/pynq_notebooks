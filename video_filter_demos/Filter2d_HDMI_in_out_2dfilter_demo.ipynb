{
 "cells": [
  {
   "cell_type": "markdown",
   "metadata": {
    "slideshow": {
     "slide_type": "skip"
    }
   },
   "source": [
    "# 2D Filter demo\n",
    "\n",
    "## Requirements\n",
    "\n",
    "Custom video overlay for Pynq-Z1 v2.0 image\n",
    "HDMI In connecte to a 1280x720 (720p) source\n",
    "HDMI Out of the board connected to a monitor capable of displaying 720p\n",
    "\n",
    "This demo allows the weights of a 3 channel 5x5 convolutional filter to be modified \n",
    "\n",
    "\n",
    "## Slideshow\n",
    "\n",
    "* If the resolution is incorrectly set the first time the board is connected, set the resolution, and rerun all the cells in this notebook\n",
    " \n",
    "This demo is intended to be run as a slideshow. \n",
    "\n",
    "Go to View > Cell Toolbar > Slideshow to see the *Slideshow options* for each cell. From here you can select which slides will be included or excluded from the presentation. \n",
    "\n",
    "Code cells can be executed from the slideshow view by clicking the code cell, and pressing CTRL + ENTER\n",
    "\n",
    "\n",
    "## Instructions to run the demo:\n",
    "\n",
    "* Before entering the slideshow view, click Cell > Run All to execute all the code in the notebook. \n",
    "\n",
    "In slideshow mode, use the cursor keys (left right) to navigate through the presentation\n",
    "\n",
    "* Press Alt + r to enter the slideshow and hide this view. (Exit slideshow mode with the same keys Alt + r)"
   ]
  },
  {
   "cell_type": "code",
   "execution_count": 1,
   "metadata": {
    "slideshow": {
     "slide_type": "skip"
    }
   },
   "outputs": [
    {
     "data": {
      "text/plain": [
       "<contextlib._GeneratorContextManager at 0x30103fd0>"
      ]
     },
     "execution_count": 1,
     "metadata": {},
     "output_type": "execute_result"
    }
   ],
   "source": [
    "import pynq\n",
    "ol = pynq.Overlay('./filter.bit')\n",
    "\n",
    "from pynq.lib.video import *\n",
    "rgba = PixelFormat(32, COLOR_IN_RGB, COLOR_OUT_RGB)\n",
    "mode = VideoMode(1280, 720, 32)\n",
    "\n",
    "ol.video.hdmi_in.configure(rgba)\n",
    "\n",
    "ol.video.hdmi_in.start()\n",
    "\n",
    "ol.video.hdmi_out.configure(mode, rgba)\n",
    "ol.video.hdmi_out.start()"
   ]
  },
  {
   "cell_type": "markdown",
   "metadata": {
    "slideshow": {
     "slide_type": "skip"
    }
   },
   "source": [
    "Check the input resolution. "
   ]
  },
  {
   "cell_type": "code",
   "execution_count": 2,
   "metadata": {
    "slideshow": {
     "slide_type": "skip"
    }
   },
   "outputs": [
    {
     "data": {
      "text/plain": [
       "VideoMode: width=1280 height=720 bpp=32"
      ]
     },
     "execution_count": 2,
     "metadata": {},
     "output_type": "execute_result"
    }
   ],
   "source": [
    "ol.video.hdmi_in.mode # Check input mode; Should be 1280x 720"
   ]
  },
  {
   "cell_type": "markdown",
   "metadata": {
    "slideshow": {
     "slide_type": "skip"
    }
   },
   "source": [
    "This should turn on the monitor but nothing will be displayed yet. "
   ]
  },
  {
   "cell_type": "code",
   "execution_count": 3,
   "metadata": {
    "collapsed": true,
    "slideshow": {
     "slide_type": "skip"
    }
   },
   "outputs": [],
   "source": [
    "filter2d = ol.video.filter2d_0\n",
    "\n",
    "coeffs = np.frombuffer(filter2d.mmio.mem, np.int16, 96, 64)"
   ]
  },
  {
   "cell_type": "markdown",
   "metadata": {
    "slideshow": {
     "slide_type": "skip"
    }
   },
   "source": [
    "The arguments to `np.frombuffer` are the buffer object, the type we want, the number of elements and the offset in bytes. 96 is chosen because that's the number of 16-bit integers that can fit into the range 0x40 to 0xFF and 64 is the offset of the coeffs1 array.\n",
    "\n",
    "Now we have the master array we can get the slices for each particular set of coefficients."
   ]
  },
  {
   "cell_type": "code",
   "execution_count": 4,
   "metadata": {
    "collapsed": true,
    "slideshow": {
     "slide_type": "skip"
    }
   },
   "outputs": [],
   "source": [
    "c1 = coeffs[0:25].reshape((5,5))\n",
    "c2 = coeffs[32:57].reshape((5,5))\n",
    "c3 = coeffs[64:89].reshape((5,5))"
   ]
  },
  {
   "cell_type": "markdown",
   "metadata": {
    "collapsed": true,
    "slideshow": {
     "slide_type": "skip"
    }
   },
   "source": [
    "Note that while we have specified the types here as a 16-bit integer the type used by the hardware is a 16-bit fixed-point number so we need multiply the value of the coefficients by 256 when writing them to the hardware. Finally we can make our filter pass through the signal intact and (hopefully) see something on the screen."
   ]
  },
  {
   "cell_type": "code",
   "execution_count": 6,
   "metadata": {
    "collapsed": true,
    "slideshow": {
     "slide_type": "skip"
    }
   },
   "outputs": [],
   "source": [
    "def update_filter(sender):\n",
    "    for i in range(5):\n",
    "        for j in range(5):\n",
    "            c1[(i,j)] = my_coefficients[i*5+j].value\n",
    "            c2[(i,j)] = my_coefficients[25 + i*5+j].value\n",
    "            c3[(i,j)] = my_coefficients[50 + i*5+j].value"
   ]
  },
  {
   "cell_type": "markdown",
   "metadata": {
    "slideshow": {
     "slide_type": "skip"
    }
   },
   "source": [
    "Connect HDMI in to HDMI out. Make sure something is being displayed from the HDMI source to the board."
   ]
  },
  {
   "cell_type": "code",
   "execution_count": 7,
   "metadata": {
    "collapsed": true,
    "slideshow": {
     "slide_type": "skip"
    }
   },
   "outputs": [],
   "source": [
    "ol.video.hdmi_in.tie(ol.video.hdmi_out)"
   ]
  },
  {
   "cell_type": "markdown",
   "metadata": {
    "slideshow": {
     "slide_type": "skip"
    }
   },
   "source": [
    "Build integer input box widgets to control the filter coefficinets. "
   ]
  },
  {
   "cell_type": "code",
   "execution_count": 8,
   "metadata": {
    "collapsed": true,
    "slideshow": {
     "slide_type": "skip"
    }
   },
   "outputs": [],
   "source": [
    "import ipywidgets as widgets\n",
    "from ipywidgets import interact, Layout\n",
    "from IPython.display import display\n",
    "from ipywidgets import HBox, VBox\n",
    "\n",
    "my_coefficients = []   \n",
    "for i in range(3):\n",
    "    for j in range(25):\n",
    "        my_coefficients.append(widgets.IntText(value=0, disabled=False, layout=Layout(width='50px')))\n",
    "        my_coefficients[i*25+j].observe(update_filter)"
   ]
  },
  {
   "cell_type": "markdown",
   "metadata": {
    "slideshow": {
     "slide_type": "skip"
    }
   },
   "source": [
    "Add labels using HTML components"
   ]
  },
  {
   "cell_type": "code",
   "execution_count": 9,
   "metadata": {
    "collapsed": true,
    "slideshow": {
     "slide_type": "skip"
    }
   },
   "outputs": [],
   "source": [
    "red = widgets.HTML(\n",
    "    value=\"Red Channel\",\n",
    "    placeholder='Red html'\n",
    ")\n",
    "\n",
    "green = widgets.HTML(\n",
    "    value=\"Green Channel\",\n",
    "    placeholder='Green html'\n",
    ")\n",
    "\n",
    "blue = widgets.HTML(\n",
    "    value=\"Blue Channel\",\n",
    "    placeholder='Blue html'\n",
    ")\n",
    "\n",
    "labels = [red, green, blue]"
   ]
  },
  {
   "cell_type": "markdown",
   "metadata": {
    "slideshow": {
     "slide_type": "skip"
    }
   },
   "source": [
    "# Create some example filters"
   ]
  },
  {
   "cell_type": "code",
   "execution_count": null,
   "metadata": {
    "collapsed": true,
    "slideshow": {
     "slide_type": "skip"
    }
   },
   "outputs": [],
   "source": [
    "# Some options for filters: https://en.wikipedia.org/wiki/Kernel_%28image_processing%29\n",
    "    \n",
    "\n",
    "default_mask = np.frombuffer(filter2d.mmio.mem, np.int16, 96, 64)\n",
    "default_mask = [[0, 0,  0, 0, 0],\n",
    "                [0, 0,  0, 0, 0],\n",
    "                [0, 0,256, 0, 0],\n",
    "                [0, 0,  0, 0, 0],\n",
    "                [0, 0,  0, 0, 0]]\n",
    "\n",
    "blank_mask = np.frombuffer(filter2d.mmio.mem, np.int16, 96, 64)\n",
    "blank_mask = [[0, 0,  0, 0, 0],\n",
    "                [0, 0,  0, 0, 0],\n",
    "                [0, 0, 0, 0, 0],\n",
    "                [0, 0,  0, 0, 0],\n",
    "                [0, 0,  0, 0, 0]]\n",
    "\n",
    "sobel_mask = np.frombuffer(filter2d.mmio.mem, np.int16, 96, 64)\n",
    "sobel_mask = [[0,0,  1,0,0],\n",
    "              [0,1,  2,1,0],\n",
    "              [1,2,-16,2,1],\n",
    "              [0,1,  2,1,0],\n",
    "              [0,0,  1,0,0]]\n",
    "sobel_mask = 256*np.array(sobel_mask)\n",
    "\n",
    "enhance_mask = np.frombuffer(filter2d.mmio.mem, np.int16, 96, 64)\n",
    "enhance_mask = [[0, 0,  5, 0, 0],\n",
    "                [0, 5,  9, 5, 0],\n",
    "                [5, 9,256, 9, 5],\n",
    "                [0, 5,  9, 5, 0],\n",
    "                [0, 0,  5, 0, 0]]\n",
    "\n",
    "sharpen_mask = np.frombuffer(filter2d.mmio.mem, np.int16, 96, 64)\n",
    "sharpen_mask = [[0, 0,  0, 0, 0],\n",
    "                [0, 0, -1, 0, 0],\n",
    "                [0,-1,  5,-1, 0],\n",
    "                [0, 0, -1, 0, 0],\n",
    "                [0, 0,  0, 0, 0]]\n",
    "sharpen_mask = 256*np.array(sharpen_mask)\n",
    "\n",
    "gaussian_blur_mask = np.frombuffer(filter2d.mmio.mem, np.int16, 96, 64)\n",
    "gaussian_blur_mask = [[1, 4,  6, 4, 1],\n",
    "                      [4,16, 24,16, 4],\n",
    "                      [6,24, 36,24, 6],\n",
    "                      [4,16, 24,16, 4],\n",
    "                      [1, 4,  6, 4, 1]]"
   ]
  },
  {
   "cell_type": "markdown",
   "metadata": {
    "slideshow": {
     "slide_type": "skip"
    }
   },
   "source": [
    "# Create function to update coefficients\n",
    "\n",
    "The update function will be called when values are updated in the widget boxes"
   ]
  },
  {
   "cell_type": "code",
   "execution_count": 10,
   "metadata": {
    "collapsed": true,
    "slideshow": {
     "slide_type": "skip"
    }
   },
   "outputs": [],
   "source": [
    "def update_coeffs(sender):\n",
    "    if presets.value is 'Default':\n",
    "        c1[:] = default_mask[:]\n",
    "        c2[:] = default_mask[:]\n",
    "        c3[:] = default_mask[:]\n",
    "    elif presets.value is 'Sobel':\n",
    "        c1[:] = sobel_mask[:]\n",
    "        c2[:] = sobel_mask[:]\n",
    "        c3[:] = sobel_mask[:]\n",
    "    elif presets.value is 'Warm':\n",
    "        c1[:] = enhance_mask[:]\n",
    "        c2[:] = default_mask[:]\n",
    "        c3[:] = default_mask[:]\n",
    "    elif presets.value is 'Cool':\n",
    "        c1[:] = default_mask[:]\n",
    "        c2[:] = default_mask[:]\n",
    "        c3[:] = enhance_mask[:]\n",
    "    elif presets.value is 'Sharpen':\n",
    "        c1[:] = sharpen_mask[:]\n",
    "        c2[:] = sharpen_mask[:]\n",
    "        c3[:] = sharpen_mask[:]\n",
    "    elif presets.value is 'Blur':\n",
    "        c1[:] = gaussian_blur_mask[:]\n",
    "        c2[:] = gaussian_blur_mask[:]\n",
    "        c3[:] = gaussian_blur_mask[:]\n",
    "    elif presets.value is 'Red_Edge':\n",
    "        c1[:] = sobel_mask[:]\n",
    "        c2[:] = blank_mask[:]\n",
    "        c3[:] = blank_mask[:]\n",
    "    elif presets.value is 'Blue_Edge':\n",
    "        c1[:] = blank_mask[:]\n",
    "        c2[:] = blank_mask[:]\n",
    "        c3[:] = sobel_mask[:]\n",
    "    elif presets.value is 'Green_Edge':\n",
    "        c1[:] = blank_mask[:]\n",
    "        c2[:] = sobel_mask[:]\n",
    "        c3[:] = blank_mask[:]\n",
    "    \n",
    "presets = widgets.Select(\n",
    "    options=['Default', 'Sobel', 'Sharpen', 'Blur', 'Warm', 'Cool', 'Red_Edge', 'Blue_Edge', 'Green_Edge'],\n",
    "    value='Default',\n",
    "    # rows=10,\n",
    "    description='Presets:',\n",
    "    disabled=False,\n",
    "    layout=Layout(width='250px')\n",
    ")\n",
    "presets.observe(update_coeffs)\n",
    "update_coeffs(_)"
   ]
  },
  {
   "cell_type": "markdown",
   "metadata": {
    "slideshow": {
     "slide_type": "skip"
    }
   },
   "source": [
    "# Create widget layout"
   ]
  },
  {
   "cell_type": "code",
   "execution_count": 11,
   "metadata": {
    "collapsed": true,
    "slideshow": {
     "slide_type": "skip"
    }
   },
   "outputs": [],
   "source": [
    "import traitlets\n",
    "\n",
    "my_hboxes = [None] *7\n",
    "my_vboxes = [None] *3\n",
    "for i in range(3):\n",
    "    my_hboxes[0] = labels[i]\n",
    "    for j in range(5):\n",
    "        my_hboxes[j+1] = widgets.HBox(my_coefficients[i*25 + j*5: i*25 + j*5 +5])\n",
    "    my_hboxes[6] = presets\n",
    "    my_vboxes[i] = widgets.VBox(my_hboxes, layout=Layout(border='solid 2px', width= '280px'))\n",
    "\n",
    "my_boxes = widgets.HBox(my_vboxes)"
   ]
  },
  {
   "cell_type": "markdown",
   "metadata": {
    "slideshow": {
     "slide_type": "slide"
    }
   },
   "source": [
    "# Video filter\n",
    "\n",
    "The boxes below are weights for the convolutional filter. Chose from presets, or set your own values by typing numbers into the box. \n",
    "\n",
    "* Hint, the value in the centre box will increase or reduce the strength of the colour\n",
    "* Moving the default value (256) around the box will shift the color up/down/left/right slightly\n",
    "* You can also select some presets fromt he drop down box"
   ]
  },
  {
   "cell_type": "code",
   "execution_count": 12,
   "metadata": {
    "slideshow": {
     "slide_type": "-"
    }
   },
   "outputs": [
    {
     "data": {
      "application/vnd.jupyter.widget-view+json": {
       "model_id": "5f080ab7299b406593ccf982b21170ad"
      }
     },
     "metadata": {},
     "output_type": "display_data"
    }
   ],
   "source": [
    "display(my_boxes)"
   ]
  },
  {
   "cell_type": "markdown",
   "metadata": {
    "slideshow": {
     "slide_type": "skip"
    }
   },
   "source": [
    "If resetting the notebook, the functions below should be uncommented and executed to free memory and stop the HDMI controllers gracefully. If these fucntions are not run, and rerunning the notebook gives a memory error, or if the PL stops responding, restart the board. "
   ]
  },
  {
   "cell_type": "code",
   "execution_count": 14,
   "metadata": {
    "collapsed": true,
    "slideshow": {
     "slide_type": "skip"
    }
   },
   "outputs": [],
   "source": [
    "#ol.video.hdmi_out.stop()\n",
    "#ol.video.hdmi_in.stop()"
   ]
  }
 ],
 "metadata": {
  "celltoolbar": "Slideshow",
  "kernelspec": {
   "display_name": "Python 3",
   "language": "python",
   "name": "python3"
  },
  "language_info": {
   "codemirror_mode": {
    "name": "ipython",
    "version": 3
   },
   "file_extension": ".py",
   "mimetype": "text/x-python",
   "name": "python",
   "nbconvert_exporter": "python",
   "pygments_lexer": "ipython3",
   "version": "3.6.0"
  }
 },
 "nbformat": 4,
 "nbformat_minor": 2
}
