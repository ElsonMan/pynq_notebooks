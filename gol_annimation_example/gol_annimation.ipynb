{
 "cells": [
  {
   "cell_type": "markdown",
   "metadata": {},
   "source": [
    "# Game of life on PYNQ to demonstrate annimation\n",
    "\n",
    "Code derived from example here:\n",
    "    \n",
    "http://jakevdp.github.io/blog/2013/08/07/conways-game-of-life/"
   ]
  },
  {
   "cell_type": "code",
   "execution_count": 1,
   "metadata": {},
   "outputs": [
    {
     "data": {
      "application/javascript": [
       "\n",
       "require(['notebook/js/codecell'], function(codecell) {\n",
       "  codecell.CodeCell.options_default.highlight_modes[\n",
       "      'magic_text/x-csrc'] = {'reg':[/^%%microblaze/]};\n",
       "  Jupyter.notebook.events.one('kernel_ready.Kernel', function(){\n",
       "      Jupyter.notebook.get_cells().map(function(cell){\n",
       "          if (cell.cell_type == 'code'){ cell.auto_highlight(); } }) ;\n",
       "  });\n",
       "});\n"
      ]
     },
     "metadata": {},
     "output_type": "display_data"
    }
   ],
   "source": [
    "from pynq.overlays.base import BaseOverlay\n",
    "base = BaseOverlay(\"base.bit\")"
   ]
  },
  {
   "cell_type": "code",
   "execution_count": 2,
   "metadata": {},
   "outputs": [
    {
     "data": {
      "text/plain": [
       "<contextlib._GeneratorContextManager at 0x2ffc1df0>"
      ]
     },
     "execution_count": 2,
     "metadata": {},
     "output_type": "execute_result"
    }
   ],
   "source": [
    "from pynq.lib.video import *\n",
    "#mode = VideoMode(1280, 720, 8)\n",
    "width = 640\n",
    "height = 480\n",
    "mode = VideoMode(width, height, 8)\n",
    "\n",
    "hdmi_out = base.video.hdmi_out\n",
    "hdmi_out.configure(mode, PIXEL_GRAY)\n",
    "hdmi_out.start()"
   ]
  },
  {
   "cell_type": "code",
   "execution_count": 3,
   "metadata": {},
   "outputs": [],
   "source": [
    "import numpy as np\n",
    "np.random.seed(0)\n",
    "\n",
    "def life_step_1(X):\n",
    "    \"\"\"Game of life step using generator expressions\"\"\"\n",
    "    nbrs_count = sum(np.roll(np.roll(X, i, 0), j, 1)\n",
    "                     for i in (-1, 0, 1) for j in (-1, 0, 1)\n",
    "                     if (i != 0 or j != 0))\n",
    "    return (nbrs_count == 3) | (X & (nbrs_count == 2))\n",
    "\n",
    "def life_step_2(X):\n",
    "    \"\"\"Game of life step using scipy tools\"\"\"\n",
    "    from scipy.signal import convolve2d\n",
    "    nbrs_count = convolve2d(X, np.ones((3, 3)), mode='same', boundary='wrap') - X\n",
    "    return (nbrs_count == 3) | (X & (nbrs_count == 2))\n",
    "    \n",
    "life_step = life_step_1"
   ]
  },
  {
   "cell_type": "code",
   "execution_count": 7,
   "metadata": {},
   "outputs": [],
   "source": [
    "X = np.zeros((height, width), dtype=bool)\n",
    "\n",
    "def life_animation(X):\n",
    "\n",
    "    outframe = hdmi_out.newframe()   \n",
    "    outframe[:] = X\n",
    "    r = np.random.random((height, width))\n",
    "    X[:] = (r > 0.75)\n",
    "\n",
    "    X = np.asarray(X)\n",
    "    assert X.ndim == 2\n",
    "    X = X.astype(bool)\n",
    "\n",
    "    X_blank = np.zeros_like(X)\n",
    "\n",
    "    # animation function.  This is called sequentially\n",
    "    def animate(i):\n",
    "        im.set_data(animate.X)\n",
    "        animate.X = life_step(animate.X)\n",
    "        return (im,)\n",
    "    animate.X = X\n",
    "\n",
    "    outframe[:] = X[:]*0xff\n",
    "\n",
    "    hdmi_out.writeframe(outframe)"
   ]
  },
  {
   "cell_type": "markdown",
   "metadata": {},
   "source": [
    "# Game of life step using generator expressions"
   ]
  },
  {
   "cell_type": "code",
   "execution_count": 8,
   "metadata": {},
   "outputs": [],
   "source": [
    "life_step = life_step_1"
   ]
  },
  {
   "cell_type": "code",
   "execution_count": 9,
   "metadata": {},
   "outputs": [
    {
     "name": "stdout",
     "output_type": "stream",
     "text": [
      "Frames per second:  14.856946722011925\n"
     ]
    }
   ],
   "source": [
    "import time\n",
    "start = time.time()\n",
    "numframes = 20\n",
    "for i in range(numframes):\n",
    "    life_animation(X)\n",
    "    \n",
    "end = time.time()\n",
    "print(\"Frames per second:  \" + str(numframes / (end - start)))"
   ]
  },
  {
   "cell_type": "markdown",
   "metadata": {},
   "source": [
    "# Game of life step using scipy tools"
   ]
  },
  {
   "cell_type": "code",
   "execution_count": 10,
   "metadata": {},
   "outputs": [],
   "source": [
    "life_step = life_step_2"
   ]
  },
  {
   "cell_type": "code",
   "execution_count": 11,
   "metadata": {},
   "outputs": [
    {
     "name": "stdout",
     "output_type": "stream",
     "text": [
      "Frames per second:  14.983028324230094\n"
     ]
    }
   ],
   "source": [
    "import time\n",
    "start = time.time()\n",
    "numframes = 20\n",
    "for i in range(numframes):\n",
    "    life_animation(X)\n",
    "    \n",
    "end = time.time()\n",
    "print(\"Frames per second:  \" + str(numframes / (end - start)))"
   ]
  },
  {
   "cell_type": "markdown",
   "metadata": {},
   "source": [
    "# Single step"
   ]
  },
  {
   "cell_type": "code",
   "execution_count": 15,
   "metadata": {},
   "outputs": [],
   "source": [
    "life_animation(X)"
   ]
  }
 ],
 "metadata": {
  "kernelspec": {
   "display_name": "Python 3",
   "language": "python",
   "name": "python3"
  },
  "language_info": {
   "codemirror_mode": {
    "name": "ipython",
    "version": 3
   },
   "file_extension": ".py",
   "mimetype": "text/x-python",
   "name": "python",
   "nbconvert_exporter": "python",
   "pygments_lexer": "ipython3",
   "version": "3.6.0"
  }
 },
 "nbformat": 4,
 "nbformat_minor": 2
}
